{
 "cells": [
  {
   "cell_type": "code",
   "execution_count": 1,
   "metadata": {},
   "outputs": [
    {
     "name": "stderr",
     "output_type": "stream",
     "text": [
      "Using backend: pytorch\n"
     ]
    },
    {
     "name": "stdout",
     "output_type": "stream",
     "text": [
      "Wall time: 59.6 s\n"
     ]
    }
   ],
   "source": [
    "%%time \n",
    "import numpy as np # amazon dataset\n",
    "from numpy.random import RandomState\n",
    "import scipy.sparse as sparse\n",
    "from dgl.data import AmazonCoBuyPhotoDataset\n",
    "\n",
    "\n",
    "dataset = AmazonCoBuyPhotoDataset()\n",
    "graph = dataset[0]  \n",
    "num_class = dataset.num_classes\n",
    "label = graph.ndata['label']\n",
    "\n",
    "from networkx.convert_matrix import to_numpy_array\n",
    "from dgl import to_networkx\n",
    "\n",
    "\n",
    "adj = to_networkx(graph)\n",
    "adj = to_numpy_array(adj)\n",
    "\n",
    "rowsum = adj.sum(axis=1)\n",
    "for i in range(adj.shape[0]):\n",
    "    if rowsum[i]==0:\n",
    "        rowsum[i]=1\n",
    "        adj[i][i]=1\n",
    "T = adj/rowsum.reshape(adj.shape[0],1)\n",
    "T = np.nan_to_num(T, copy=True, nan=0.0, posinf=None, neginf=None)\n",
    "Tsparse = sparse.coo_matrix(T)\n",
    "T_row = Tsparse.row\n",
    "T_col = Tsparse.col\n",
    "T_data = Tsparse.data"
   ]
  },
  {
   "cell_type": "code",
   "execution_count": 2,
   "metadata": {},
   "outputs": [],
   "source": [
    "# SVD Tree Construction\n",
    "#inputs: T (adj), Levels, precision\n",
    "from sklearn.decomposition import TruncatedSVD\n",
    "from sklearn.utils.extmath import randomized_svd\n",
    "import numpy as np\n",
    "def svdtree(T, Levels, truncpercent):\n",
    "    N = T.shape[0]\n",
    "    dim=int(np.ceil(N*truncpercent))\n",
    "  \n",
    "    philist = [] #this is U\n",
    "    svlist = [] #this is S*V.T\n",
    "    tlist = []\n",
    "    extbases = []\n",
    "    thresh = 1e-10\n",
    "    T_current = T\n",
    "    for j in range(Levels):\n",
    "        if j>0:\n",
    "            dim = int(np.ceil(tlist[j-1].shape[0]*truncpercent))\n",
    "        \n",
    "\n",
    "        u, s, vt = randomized_svd(T_current, \n",
    "                              n_components=dim,\n",
    "                              n_iter=5)\n",
    "        s=np.diag(s)\n",
    "\n",
    "        philist.append(u)\n",
    "        svlist.append(s @ vt)\n",
    "        if j==0:\n",
    "            extbases.append(u)\n",
    "        else:\n",
    "            extbases.append(extbases[j-1] @ u)\n",
    "        T_current = u.T @ T_current\n",
    "\n",
    "        T_current = T_current @ u\n",
    "\n",
    "        tlist.append(T_current)\n",
    "    return philist, svlist, tlist, extbases;"
   ]
  },
  {
   "cell_type": "code",
   "execution_count": 12,
   "metadata": {},
   "outputs": [
    {
     "name": "stdout",
     "output_type": "stream",
     "text": [
      "Wall time: 21.9 s\n"
     ]
    }
   ],
   "source": [
    " %%time \n",
    "import scipy.sparse as sparse\n",
    "Tsparse = sparse.csr_matrix(T)\n",
    "truncpercent=0.5\n",
    "lev=5\n",
    "lev2=5 \n",
    "thresh = 1e-10\n",
    "N = T.shape[0]\n",
    "philist, svlist, tlist, extbases = svdtree(Tsparse, lev, truncpercent)\n",
    "\n",
    "G = sparse.eye(T.shape[0],T.shape[1])+Tsparse\n",
    "\n",
    "for k in range(lev):\n",
    "    sz = tlist[k].shape\n",
    "    tempmat = extbases[k] @ (sparse.eye(sz[0],sz[1])+tlist[k])\n",
    "    tempmat = tempmat @ extbases[k].T\n",
    "    G = tempmat @ G \n",
    "    \n",
    "GTree = svdtree(N*G, lev2, truncpercent)\n",
    "g_ext_bases=GTree[3]\n",
    "g_ext_op=GTree[1]\n",
    "V=g_ext_bases[lev2-1] @ g_ext_op[lev2-1]\n",
    "V = sparse.coo_matrix(V)\n",
    "row = V.row\n",
    "col = V.col\n",
    "data = V.data\n",
    "\n",
    "\n",
    "\n"
   ]
  },
  {
   "cell_type": "code",
   "execution_count": 19,
   "metadata": {},
   "outputs": [
    {
     "data": {
      "text/plain": [
       "0.8254762931752203"
      ]
     },
     "execution_count": 19,
     "metadata": {},
     "output_type": "execute_result"
    }
   ],
   "source": [
    "# Calculate F1 macro score by using k-nearest neighbors to classify each node.\n",
    "from sklearn.neighbors import KNeighborsClassifier\n",
    "from sklearn.metrics import f1_score\n",
    "\n",
    "neigh = KNeighborsClassifier(n_neighbors=7)\n",
    "neigh.fit(V, label.reshape((label.shape[0],)))\n",
    "y_pred = neigh.predict(V)\n",
    "f1_score(label.reshape((label.shape[0],)), y_pred, average='macro')"
   ]
  }
 ],
 "metadata": {
  "kernelspec": {
   "display_name": "Python 3 (ipykernel)",
   "language": "python",
   "name": "python3"
  },
  "language_info": {
   "codemirror_mode": {
    "name": "ipython",
    "version": 3
   },
   "file_extension": ".py",
   "mimetype": "text/x-python",
   "name": "python",
   "nbconvert_exporter": "python",
   "pygments_lexer": "ipython3",
   "version": "3.9.13"
  }
 },
 "nbformat": 4,
 "nbformat_minor": 4
}
